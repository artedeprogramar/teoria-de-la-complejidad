{
  "nbformat": 4,
  "nbformat_minor": 0,
  "metadata": {
    "colab": {
      "name": "Arte_de_programar__Obtiendo_Big_O.ipynb",
      "provenance": []
    },
    "kernelspec": {
      "name": "python3",
      "display_name": "Python 3"
    }
  },
  "cells": [
    {
      "cell_type": "markdown",
      "metadata": {
        "id": "0QliLc5so7SR"
      },
      "source": [
        "# 🎨🎬 Arte de programar: Obteniendo Big-O a partir del código\n",
        "\n",
        "\n",
        "▶ Canal de YouTube: [youtube.com/ArteDeProgramar](https://www.youtube.com/ArteDeProgramar)\n",
        "\n",
        "▶ Twitter: [@arteProgramar](https://twitter.com/arteProgramar)\n",
        "\n",
        "▶ Instagram: [@arteProgramar](https://www.instagram.com/arteprogramar/)\n",
        "\n",
        "▶ Twitter personal: [@360macky](https://twitter.com/360macky)\n",
        "\n",
        "<hr />\n",
        "\n",
        "Este notebook pertenece al episodio **¿Cómo obtener la complejidad temporal?** de la serie de **Teoría de la Complejidad**.\n",
        "\n",
        "> 💙 Puedes apoyar mi trabajo donando a través de [PayPal](https://www.paypal.com/donate?business=7AUJ8ZL4U34AE&item_name=Creando+v%C3%ADdeos+sobre+ciencias+de+la+computaci%C3%B3n&currency_code=USD), [Plin](https://bit.ly/plinArteDeProgramar) o [Yape](https://bit.ly/yapeArteDeProgramar).\n",
        "\n",
        "<hr />\n",
        "\n"
      ]
    },
    {
      "cell_type": "markdown",
      "metadata": {
        "id": "IJVIn8TnjE2b"
      },
      "source": [
        "## 📈 Gráfica de complejidad temporal\n",
        "\n",
        "Importamos matplotlib para graficar el aumento de uso recursos (de tiempo) que utiliza el algoritmo.\n",
        "\n",
        "Importamos time para medir el tiempo utilizado entre un punto de ejecución y otro. Esto para medir la duración de la ejecución del algoritmo.\n",
        "\n",
        "Importamos numpy para crear un arreglo donde almacenar los tiempos que dura el algoritmo.\n",
        "\n",
        "Estas librerías ya vienen incorporadas en Google Colab.\n"
      ]
    },
    {
      "cell_type": "code",
      "metadata": {
        "id": "pOAFBWa6OEjx"
      },
      "source": [
        "import matplotlib.pyplot as plt\n",
        "import time\n",
        "import numpy as np"
      ],
      "execution_count": null,
      "outputs": []
    },
    {
      "cell_type": "markdown",
      "metadata": {
        "id": "utwW3Y5kwKPu"
      },
      "source": [
        "🪓 Crear la función `encontrar_maximo`\n"
      ]
    },
    {
      "cell_type": "code",
      "metadata": {
        "id": "E_tK24V0wStE"
      },
      "source": [
        "def encontrar_maximo(lista):\n",
        "    numero_maximo = 0\n",
        "    for elemento in lista:\n",
        "        if elemento > numero_maximo:\n",
        "            numero_maximo = elemento\n",
        "    return numero_maximo"
      ],
      "execution_count": null,
      "outputs": []
    },
    {
      "cell_type": "markdown",
      "metadata": {
        "id": "LvloTZomwTqy"
      },
      "source": [
        "🔢 Medimos el tiempo de ejecución del algoritmo mientras los datos de entrada aumentan:"
      ]
    },
    {
      "cell_type": "code",
      "metadata": {
        "id": "FDw8tdyPOWZh"
      },
      "source": [
        "registro_de_segundos = np.array([])\n",
        "lista_de_incremento = 100\n",
        "\n",
        "for cantidad in range(lista_de_incremento):\n",
        "  datos_de_entrada = list(range(cantidad))\n",
        "  tiempo_inicio = time.time()\n",
        "  encontrar_maximo(datos_de_entrada)\n",
        "  tiempo_finalizacion = time.time()\n",
        "  duracion = tiempo_finalizacion - tiempo_inicio\n",
        "  registro_de_segundos = np.append(registro_de_segundos, duracion)\n"
      ],
      "execution_count": null,
      "outputs": []
    },
    {
      "cell_type": "markdown",
      "metadata": {
        "id": "wE2cy3Q8v__g"
      },
      "source": [
        "📊 Graficar el registro de tiempo.\n",
        "\n",
        "`plt.plot()` = Grafica el arreglo `registro_de_segundos`"
      ]
    },
    {
      "cell_type": "code",
      "metadata": {
        "colab": {
          "base_uri": "https://localhost:8080/",
          "height": 312
        },
        "id": "aoIdvX6ZvlSf",
        "outputId": "7512ccdf-b1b3-4084-ae7d-336a8cbafdd0"
      },
      "source": [
        "plt.title('Complejidad temporal')\n",
        "plt.xlabel('Datos de entrada (input)')\n",
        "plt.ylabel('Tiempo')\n",
        "\n",
        "plt.plot(registro_de_segundos)\n"
      ],
      "execution_count": null,
      "outputs": [
        {
          "output_type": "execute_result",
          "data": {
            "text/plain": [
              "[<matplotlib.lines.Line2D at 0x7fdfbf6d1b10>]"
            ]
          },
          "metadata": {
            "tags": []
          },
          "execution_count": 31
        },
        {
          "output_type": "display_data",
          "data": {
            "image/png": "[encoded data removed]",
            "text/plain": [
              "<Figure size 432x288 with 1 Axes>"
            ]
          },
          "metadata": {
            "tags": [],
            "needs_background": "light"
          }
        }
      ]
    },
    {
      "cell_type": "markdown",
      "metadata": {
        "id": "QL4HLSOwjQo0"
      },
      "source": [
        "## 🤖 Utilizando la librería `big_o`"
      ]
    },
    {
      "cell_type": "markdown",
      "metadata": {
        "id": "qIEg-doEweiz"
      },
      "source": [
        "Instalar el módulo `big_o`"
      ]
    },
    {
      "cell_type": "code",
      "metadata": {
        "id": "AHKOp5aIjPSI"
      },
      "source": [
        "!pip install -q big_o"
      ],
      "execution_count": null,
      "outputs": []
    },
    {
      "cell_type": "markdown",
      "metadata": {
        "id": "1WxPLsk-wn_W"
      },
      "source": [
        "Utilizar `big_o`  para encontrar la forma de crecimiento (linear, logarítmica, constante) de la función.\n",
        "\n",
        "Puedes obtener más información del módulo [aquí](https://github.com/pberkes/big_O)."
      ]
    },
    {
      "cell_type": "code",
      "metadata": {
        "id": "wyQ6b91rNc9C"
      },
      "source": [
        "import big_o\n",
        "generador_de_datos_de_entrada = lambda n: big_o.datagen.integers(n, 0, 10000)\n",
        "crecimiento, _ = big_o.big_o(encontrar_maximo, generador_de_datos_de_entrada, n_repeats=100)"
      ],
      "execution_count": null,
      "outputs": []
    },
    {
      "cell_type": "markdown",
      "metadata": {
        "id": "14XgeP61bQd0"
      },
      "source": [
        "💻 Mostrar el grado de crecimiento del algoritmo.\n",
        "\n",
        "🦄 En este caso es lineal:"
      ]
    },
    {
      "cell_type": "code",
      "metadata": {
        "colab": {
          "base_uri": "https://localhost:8080/"
        },
        "id": "JLzkA8XI1i4z",
        "outputId": "64f3d633-9c63-4a71-ed99-eaaf58e6cae3"
      },
      "source": [
        "print(crecimiento)"
      ],
      "execution_count": null,
      "outputs": [
        {
          "output_type": "stream",
          "text": [
            "Linear: time = 0.0004 + 3.9E-06*n (sec)\n"
          ],
          "name": "stdout"
        }
      ]
    }
  ]
}